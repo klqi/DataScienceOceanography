{
 "cells": [
  {
   "cell_type": "markdown",
   "id": "dcd5cf22-ffff-4d47-8fc9-35c573a5509e",
   "metadata": {},
   "source": [
    "## In-class exercise \\#1: Ocean Deoxygenation\n"
   ]
  },
  {
   "cell_type": "code",
   "execution_count": null,
   "id": "2fee8cf5-6c14-4221-865a-0447c1c33646",
   "metadata": {},
   "outputs": [],
   "source": [
    "#Solution\n",
    "plt.figure(figsize=(12,4))\n",
    "\n",
    "plt.subplot(1,5,1)\n",
    "plt.scatter(HOT_bottle['oxygen_bottle_hot'],-HOT_bottle['depth'])\n",
    "plt.xlabel('O$_2$ [µmol/kg]')\n",
    "plt.ylabel('Depth [m]')\n",
    "plt.title('Dissolved Oxygen')\n",
    "\n",
    "\n",
    "plt.subplot(1,5,(3,5))\n",
    "\n",
    "plt.hist(HOT_bottle[ind1]['oxygen_bottle_hot'], \n",
    "          density=True,\n",
    "          bins=np.linspace(195, 235, 50), \n",
    "          alpha=0.8, label='1988 - 2000');\n",
    "\n",
    "plt.hist(HOT_bottle[ind2]['oxygen_bottle_hot'], \n",
    "         density=True,\n",
    "         bins=np.linspace(195, 235, 50), \n",
    "         alpha=0.8, label='2010 - 2020');\n",
    "\n",
    "plt.legend()\n",
    "plt.title('Changes in dissolved Oxygen in the upper ocean')\n",
    "plt.xlabel('O$_2$ [µmol/kg]')\n",
    "plt.ylabel('PDF of O$_2$');\n",
    "#plt.savefig('Deoxygenation.pdf');"
   ]
  },
  {
   "cell_type": "code",
   "execution_count": null,
   "id": "6b04064b-74d4-4975-bf66-950e566f8882",
   "metadata": {},
   "outputs": [],
   "source": [
    "#calculating the fractional O2 change\n",
    "O2_fractional_change=HOT_bottle[ind2]['oxygen_bottle_hot'].mean()/HOT_bottle[ind1]['oxygen_bottle_hot'].mean()-1\n",
    "O2_fractional_change=np.fix(O2_fractional_change*1e4)/100 #expressing the change in per cent and keeping just two significant digits \n",
    "print('Dissolved Oxygen change from 1988-2000 to 2010-2020 was',O2_fractional_change, '%')"
   ]
  },
  {
   "cell_type": "markdown",
   "id": "3e40cfc1-da1d-48c6-8aaa-abfac33a783a",
   "metadata": {},
   "source": [
    "## In-class exercise \\#2: Nitrogen-to-Phosphorus ratio (N:P)"
   ]
  },
  {
   "cell_type": "code",
   "execution_count": null,
   "id": "cd3a71cc-68de-4133-97cb-78a9e5919cde",
   "metadata": {},
   "outputs": [],
   "source": [
    "#Solution\n",
    "plt.figure(figsize=(6,4))\n",
    "\n",
    "plt.hist(HOT_bottle['pn_bottle_hot']/(1e-3*HOT_bottle['pp_bottle_hot']),\n",
    "         label='Observations',\n",
    "         bins=np.linspace(0,40,20),density=True);\n",
    "plt.axvline(16,linestyle='--',color='k',label='N:P=16:1')\n",
    "plt.legend()\n",
    "plt.xlabel('C:P')\n",
    "plt.title('Particulate N:P ratio');"
   ]
  },
  {
   "cell_type": "markdown",
   "id": "a4575988-d63f-4a8a-b4d7-44e14fe141b9",
   "metadata": {},
   "source": [
    "## In-class exercise \\#3: Climatology (seasonal cycle)"
   ]
  },
  {
   "cell_type": "code",
   "execution_count": null,
   "id": "f64e178f-cf8a-46f6-bf00-5734a022a5dc",
   "metadata": {},
   "outputs": [],
   "source": [
    "#Solution\n",
    "\n",
    "ind=(HOT_bottle['depth']<50)\n",
    "\n",
    "surface_climatology=HOT_bottle[ind].groupby('month').mean()    #group by month and average to calculate the climatology\n",
    "\n",
    "months = ['Jan', 'Feb', 'Mar', 'Apr', 'May', 'Jun', 'Jul', 'Aug', 'Sep', 'Oct', 'Nov', 'Dec']\n",
    "\n",
    "plt.scatter(HOT_bottle[ind]['month'],HOT_bottle[ind]['temperature_ctd_bottle_hot']);\n",
    "plt.plot(surface_climatology['temperature_ctd_bottle_hot'],'r',linewidth=5)\n",
    "plt.xticks(np.arange(1,13), months)\n",
    "plt.ylabel('Temperature [C]');"
   ]
  },
  {
   "cell_type": "code",
   "execution_count": null,
   "id": "b5745c24-fb11-46af-ac72-1d6308ca100d",
   "metadata": {},
   "outputs": [],
   "source": [
    "def plot_seasonal(var_name):\n",
    "    plt.scatter(HOT_bottle[ind]['month'],HOT_bottle[ind][var_name]);\n",
    "    plt.plot(surface_climatology[var_name],'r',linewidth=5)\n",
    "    plt.xticks(np.arange(1,13), months);\n",
    "    plt.ylabel(var_name);"
   ]
  },
  {
   "cell_type": "code",
   "execution_count": null,
   "id": "42b1cd6b-d3a5-4d3b-a5b4-09097c51a23d",
   "metadata": {},
   "outputs": [],
   "source": [
    "plot_seasonal('chl_bottle_hot')"
   ]
  },
  {
   "cell_type": "code",
   "execution_count": null,
   "id": "4b4d47e5-395f-4a8b-ba32-b661dccc9314",
   "metadata": {},
   "outputs": [],
   "source": [
    "plot_seasonal('PO4_bottle_hot')"
   ]
  }
 ],
 "metadata": {
  "kernelspec": {
   "display_name": "Python 3",
   "language": "python",
   "name": "python3"
  },
  "language_info": {
   "codemirror_mode": {
    "name": "ipython",
    "version": 3
   },
   "file_extension": ".py",
   "mimetype": "text/x-python",
   "name": "python",
   "nbconvert_exporter": "python",
   "pygments_lexer": "ipython3",
   "version": "3.7.6"
  }
 },
 "nbformat": 4,
 "nbformat_minor": 5
}
