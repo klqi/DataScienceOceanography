{
 "cells": [
  {
   "cell_type": "markdown",
   "id": "bc2a7c94-7829-4872-a874-3402c647f617",
   "metadata": {},
   "source": [
    "## In-class exercise \\#1: Make a video of precipitation"
   ]
  },
  {
   "cell_type": "code",
   "execution_count": null,
   "id": "b3af2b75-2656-4b7c-a5b0-4295d258f8bd",
   "metadata": {},
   "outputs": [],
   "source": [
    "#Solution\n",
    "tp_video=era['tp'].sel(time=slice(\"2020\", \"2022\"))\n",
    "\n",
    "def animation_func(i):\n",
    "    fig.clear()\n",
    "    ax = plt.axes(projection=ccrs.PlateCarree())                  #specifying the projection such that coasline data could be added\n",
    "    tp_video.isel(time=i).plot(cmap='Blues', vmin=0, vmax=0.03, extend='both')\n",
    "    ax.add_feature(cfeature.COASTLINE)                            #adding the coastline over the plotted data\n",
    "    ax.add_feature(cfeature.BORDERS)                              #adding the borders\n",
    "    plt.axis('off')\n",
    "\n",
    "fig = plt.figure(figsize=(10,4))\n",
    "animation = FuncAnimation(fig, animation_func, \n",
    "                          frames = len(tp_video.time))\n",
    "\n",
    "animation.save('tp_video.mp4') \n",
    "plt.close()\n",
    "Video('tp_video.mp4')"
   ]
  },
  {
   "cell_type": "markdown",
   "id": "c9ed6ba3-e658-4725-819d-13a69f99acfb",
   "metadata": {},
   "source": [
    "## In-class exercise \\#2: calculating and plotting anomalies\n"
   ]
  },
  {
   "cell_type": "code",
   "execution_count": null,
   "id": "a1c9485d-7e2f-42ab-b7ed-2108ac42eb5b",
   "metadata": {},
   "outputs": [],
   "source": [
    "#Solution\n",
    "era_a = era.groupby(\"time.month\")-era_clim      # xarray figures out broadcasting of arrays to take the difference between era(t) and era(month)"
   ]
  },
  {
   "cell_type": "code",
   "execution_count": null,
   "id": "791e9864-474a-42b4-8204-be968049e4c6",
   "metadata": {},
   "outputs": [],
   "source": [
    "fig = plt.figure(figsize=(10,4))\n",
    "ax = plt.axes(projection=ccrs.PlateCarree(central_longitude=180))                  #specifying the projection such that coasline data could be added\n",
    "era_a['sst'].sel(time=\"1997-12\").plot(cmap='RdBu_r',vmin=-4, vmax=4, transform=ccrs.PlateCarree())\n",
    "plt.plot([190,240, 240,190,190], [-5, -5, 5, 5,-5],'k--', transform=ccrs.PlateCarree())\n",
    "ax.add_feature(cfeature.COASTLINE);                            #adding the coastline over the plotted data"
   ]
  },
  {
   "cell_type": "markdown",
   "id": "b231bd77-aaf7-4368-a32f-0a23026a245b",
   "metadata": {},
   "source": [
    "## In-class exercise \\#3: conditional averages\n"
   ]
  },
  {
   "cell_type": "code",
   "execution_count": null,
   "id": "c8fc1619-b481-4172-bdee-cb71b935e73d",
   "metadata": {},
   "outputs": [],
   "source": [
    "### Compute conditional averages \n",
    "sst_ElNino= era_a['sst'][ONI>0.5,:,:].mean('time')\n",
    "sst_LaNina= era_a['sst'][ONI<-0.5,:,:].mean('time')\n",
    "\n",
    "prec_ElNino=era_a['tp'][ONI>0.5,:,:].mean('time')\n",
    "prec_LaNina=era_a['tp'][ONI<-0.5,:,:].mean('time')"
   ]
  },
  {
   "cell_type": "code",
   "execution_count": null,
   "id": "fcddd182-ab65-489b-a9fa-05e9082bd3ae",
   "metadata": {},
   "outputs": [],
   "source": [
    "### Make a figure with multiple maps of specified projections\n",
    "fig, axs = plt.subplots(nrows=2,ncols=2,\n",
    "                        subplot_kw={'projection': ccrs.PlateCarree(central_longitude=180)},\n",
    "                        figsize=(20,10))\n",
    "\n",
    "axs=axs.flatten()\n",
    "\n",
    "ax=axs[0]\n",
    "im=ax.contourf(era.longitude,era.latitude,sst_ElNino,\n",
    "               cmap='RdBu_r', levels=np.linspace(-2,2,11),extend='both', \n",
    "               transform=ccrs.PlateCarree())\n",
    "ax.add_feature(cfeature.COASTLINE)\n",
    "ax.set_title('El Nino SST')\n",
    "fig.colorbar(im, ax=ax, shrink=0.5)\n",
    "\n",
    "ax=axs[1]\n",
    "im=ax.contourf(era.longitude,era.latitude,sst_LaNina,\n",
    "               cmap='RdBu_r',levels=np.linspace(-2,2,11),extend='both', \n",
    "               transform=ccrs.PlateCarree())\n",
    "ax.add_feature(cfeature.COASTLINE)\n",
    "ax.set_title('La Nina SST')\n",
    "fig.colorbar(im, ax=ax, shrink=0.5)\n",
    "\n",
    "\n",
    "ax=axs[2]\n",
    "im=ax.contourf(era.longitude,era.latitude,prec_ElNino,\n",
    "               cmap='BrBG', levels=np.linspace(-4e-3,4e-3,11),extend='both', \n",
    "               transform=ccrs.PlateCarree())\n",
    "ax.add_feature(cfeature.COASTLINE)\n",
    "ax.set_title('El Nino Precipitation')\n",
    "fig.colorbar(im, ax=ax, shrink=0.5);\n",
    "\n",
    "ax=axs[3]\n",
    "im=ax.contourf(era.longitude,era.latitude,prec_LaNina,\n",
    "               cmap='BrBG', levels=np.linspace(-4e-3,4e-3,11),extend='both', \n",
    "               transform=ccrs.PlateCarree())\n",
    "ax.add_feature(cfeature.COASTLINE)\n",
    "ax.set_title('La Nina Precipitation')\n",
    "fig.colorbar(im, ax=ax, shrink=0.5);"
   ]
  },
  {
   "cell_type": "markdown",
   "id": "05df838f-ef2d-4260-bcb8-3a64d81134c8",
   "metadata": {},
   "source": [
    "# Take-home exercise: Seattle temperature and precipitation during El Nino and La Nina \n"
   ]
  },
  {
   "cell_type": "code",
   "execution_count": null,
   "id": "98f36cb1-6c7e-441a-8255-1c5c3b8d16f5",
   "metadata": {},
   "outputs": [],
   "source": [
    "era_Seattle_clim=era_Seattle.groupby(\"time.month\").mean('time')      # creating monthly mean climatology for seattle location\n",
    "era_Seattle_a =  era_Seattle.groupby(\"time.month\")-era_Seattle_clim  # calculating anomalies"
   ]
  },
  {
   "cell_type": "code",
   "execution_count": null,
   "id": "190ae4db-6550-462e-8ba6-afcb37ed9279",
   "metadata": {},
   "outputs": [],
   "source": [
    "era_Seattle_a['tp'][ONI<-0.5].plot.hist(bins=20,alpha=0.6)\n",
    "era_Seattle_a['tp'][ONI>0.5].plot.hist(bins=20,alpha=0.6)\n",
    "plt.legend(('La Nina','El Nino'))\n",
    "plt.xlabel('Total precipitation [m]');\n",
    "# looks like it precipitates a bit more during La Nina events, but not dramatically more."
   ]
  },
  {
   "cell_type": "code",
   "execution_count": null,
   "id": "519585d4-f928-4519-a248-e6fcc9880bfc",
   "metadata": {},
   "outputs": [],
   "source": [
    "era_Seattle_a['t2m'][ONI<-0.5].plot.hist(bins=20,alpha=0.6)\n",
    "era_Seattle_a['t2m'][ONI>0.5].plot.hist(bins=20,alpha=0.6)\n",
    "plt.legend(('La Nina','El Nino'))\n",
    "plt.xlabel('Temperature anomaly, $^{\\circ}$C')\n",
    "plt.xlim((-4,4));\n",
    "# How much hotter it is during strong El Nino and La Nina in Seattle?"
   ]
  }
 ],
 "metadata": {
  "kernelspec": {
   "display_name": "Python 3",
   "language": "python",
   "name": "python3"
  },
  "language_info": {
   "codemirror_mode": {
    "name": "ipython",
    "version": 3
   },
   "file_extension": ".py",
   "mimetype": "text/x-python",
   "name": "python",
   "nbconvert_exporter": "python",
   "pygments_lexer": "ipython3",
   "version": "3.7.6"
  }
 },
 "nbformat": 4,
 "nbformat_minor": 5
}
