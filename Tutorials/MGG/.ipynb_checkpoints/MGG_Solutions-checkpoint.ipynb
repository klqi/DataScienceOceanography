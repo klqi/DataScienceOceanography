{
 "cells": [
  {
   "cell_type": "markdown",
   "id": "a82ff651-6ee3-443a-9d7f-ab206b13d7c9",
   "metadata": {},
   "source": [
    "# In-class exercise \\#1: look at all earthquakes on a spinning globe\n"
   ]
  },
  {
   "cell_type": "code",
   "execution_count": null,
   "id": "2d6b6641-e4eb-4c53-aaa3-9753c0ddfb51",
   "metadata": {},
   "outputs": [],
   "source": [
    "#Solution\n",
    "fig = px.scatter_geo(events[events.magnitude>6.5],\n",
    "                     lat='latitude',lon='longitude', \n",
    "                     size='marker_size', color='magnitude',\n",
    "                     hover_name='description', hover_data=['magnitude','depth','year'], \n",
    "                     range_color=(5,9),\n",
    "                     height=800, width=1400)\n",
    "fig.update_geos(resolution=50, showcountries=True,projection_type='orthographic')\n",
    "fig.show()\n",
    "#fig.write_html(\"EarthquakesMag6+.html\") #save the figure as an html file to view it yourself or embed in your website!  "
   ]
  },
  {
   "cell_type": "markdown",
   "id": "7f441455-801a-49f9-b09e-9e0e6a004c62",
   "metadata": {},
   "source": [
    "# In-class exercise \\#2: Juan de Fuca - Earthquakes"
   ]
  },
  {
   "cell_type": "code",
   "execution_count": null,
   "id": "583843c4-c9ce-4693-b6e2-3c7a875e95c0",
   "metadata": {},
   "outputs": [],
   "source": [
    "# Specify the same coordinates as for the bathymetry grid\n",
    "minlat = 39\n",
    "maxlat = 50\n",
    "minlon = -135\n",
    "maxlon = -120\n",
    "\n",
    "t1 = obspy.UTCDateTime(2010,1,1)\n",
    "t2 = obspy.UTCDateTime(2020,1,1)\n",
    "\n",
    "minmagnitude=2\n",
    "\n",
    "# Query the database for earthquakes within your timeframe\n",
    "cat = client.get_events(starttime = t1, endtime = t2,\n",
    "                        minmagnitude=minmagnitude,\n",
    "                        minlatitude=minlat,\n",
    "                        minlongitude=minlon,\n",
    "                        maxlatitude=maxlat,\n",
    "                        maxlongitude=maxlon)\n",
    "events_mag2=catalog2pandas(cat)\n",
    "events_mag2['year'] = pd.DatetimeIndex(events_mag2['time']).year # add year as a category to group by\n",
    "events_mag2['marker_size'] =np.fix(np.exp(events_mag2['magnitude'])) # add marker size as exp(mag)"
   ]
  },
  {
   "cell_type": "code",
   "execution_count": null,
   "id": "decb37e7-7381-48e7-b4d0-68b9344c38c4",
   "metadata": {},
   "outputs": [],
   "source": [
    "plt.figure(figsize=(20,20))\n",
    "\n",
    "ax=plot_evelation(x,y,z,shade=True)\n",
    "\n",
    "ind= (events_mag2.longitude>min(x)) & (events_mag2.longitude<max(x)) & (events_mag2.latitude>min(y)) & (events_mag2.latitude<max(y))\n",
    "plt.scatter(events_mag2[ind].longitude,\n",
    "            events_mag2[ind].latitude,\n",
    "            events_mag2[ind].marker_size/2, \n",
    "            color='r',alpha=0.5,\n",
    "            transform=ccrs.PlateCarree())\n",
    "\n",
    "plt.text(-128.5,46,'Juan de Fuca Plate',weight='semibold', fontsize=12, transform=ccrs.PlateCarree())\n",
    "\n",
    "Lat_Seattle=47.6062; Lon_Seattle=-122.3321\n",
    "plt.plot(Lon_Seattle,Lat_Seattle, marker='o',color='k', transform=ccrs.PlateCarree())\n",
    "plt.text(Lon_Seattle,Lat_Seattle,'Seattle', fontsize=12, weight='bold', transform=ccrs.PlateCarree())\n",
    "\n",
    "#plt.savefig('Juan de Fuca - Earthquakes.jpeg')"
   ]
  },
  {
   "cell_type": "markdown",
   "id": "a22302f9-f50e-4f3c-b19c-0b0319f14435",
   "metadata": {},
   "source": [
    "# In-class exercise \\#3: Earthquake locations and slab depth\n"
   ]
  },
  {
   "cell_type": "code",
   "execution_count": null,
   "id": "766c7463-8afd-4a71-9393-d920be7d4066",
   "metadata": {},
   "outputs": [],
   "source": [
    "minmagnitude = 4\n",
    "\n",
    "minlat = 45\n",
    "maxlat = 65\n",
    "minlon = -180\n",
    "maxlon = -145\n",
    "\n",
    "# Get earthquakes for this region\n",
    "t1 = obspy.UTCDateTime(2015,1,1)\n",
    "t2 = obspy.UTCDateTime(2021,1,1)\n",
    "\n",
    "cat = client.get_events(starttime = t1, endtime = t2,\n",
    "                        minmagnitude=minmagnitude,\n",
    "                        minlatitude=minlat,\n",
    "                        minlongitude=minlon,\n",
    "                        maxlatitude=maxlat,\n",
    "                        maxlongitude=maxlon)\n",
    "\n",
    "events_mag4=catalog2pandas(cat)\n",
    "events_mag4['marker_size'] =np.fix(np.exp(events_mag4['magnitude'])) # add marker size as exp(mag)"
   ]
  },
  {
   "cell_type": "code",
   "execution_count": null,
   "id": "9ce33034-4411-46a0-822f-52abd6228056",
   "metadata": {},
   "outputs": [],
   "source": [
    "plt.figure(figsize=(20,20))\n",
    "ax=plot_evelation(x_slab,y_slab,z_slab, shade=False)\n",
    "plt.scatter(events_mag4.longitude,\n",
    "            events_mag4.latitude,\n",
    "            events_mag4.marker_size/10, \n",
    "            color='r',alpha=0.5, transform=ccrs.PlateCarree());"
   ]
  },
  {
   "cell_type": "markdown",
   "id": "67f4a08b-61af-44a9-bbc6-3110c374a9ee",
   "metadata": {},
   "source": [
    "# Take-home exercise: slab depth vs earthquake depth\n"
   ]
  },
  {
   "cell_type": "code",
   "execution_count": null,
   "id": "b57edfb0-bed1-4ff7-b468-15fdbc09a80f",
   "metadata": {},
   "outputs": [],
   "source": [
    "#Solution\n",
    "xx=xr.DataArray((360+events_mag4.longitude).values, dims=\"points\")\n",
    "yy=xr.DataArray(events_mag4.latitude.values, dims=\"points\")\n",
    "zz=slab['z'].sel(x=xx, y=yy, method='nearest',tolerance=0.2)"
   ]
  },
  {
   "cell_type": "code",
   "execution_count": null,
   "id": "e47aac1d-115b-4022-b24a-5cd5af373964",
   "metadata": {},
   "outputs": [],
   "source": [
    "plt.figure(figsize=(12,10))\n",
    "ax=plt.gca()\n",
    "im=ax.scatter(-zz,\n",
    "              events_mag4.depth/1e3,\n",
    "              events_mag4.marker_size/5,\n",
    "              events_mag4.magnitude, \n",
    "              alpha=1,\n",
    "              label='',\n",
    "              cmap = plt.get_cmap('magma') \n",
    "              )\n",
    "\n",
    "plt.plot([10, 300],[10, 300],'g--',linewidth=3,label='1:1')\n",
    "plt.legend()\n",
    "plt.xlim([5, 400])\n",
    "plt.ylim([5, 400])\n",
    "ax.set_yscale('log')\n",
    "ax.set_xscale('log')\n",
    "plt.colorbar(im)\n",
    "plt.ylabel('Earthquake depth [km]')\n",
    "plt.xlabel('Slab depth at earthquake location [km]');\n",
    "plt.savefig('Earthquake_Slab.png')"
   ]
  }
 ],
 "metadata": {
  "kernelspec": {
   "display_name": "Python 3",
   "language": "python",
   "name": "python3"
  },
  "language_info": {
   "codemirror_mode": {
    "name": "ipython",
    "version": 3
   },
   "file_extension": ".py",
   "mimetype": "text/x-python",
   "name": "python",
   "nbconvert_exporter": "python",
   "pygments_lexer": "ipython3",
   "version": "3.7.6"
  }
 },
 "nbformat": 4,
 "nbformat_minor": 5
}
