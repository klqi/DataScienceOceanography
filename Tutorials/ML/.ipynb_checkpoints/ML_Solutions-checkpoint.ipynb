{
 "cells": [
  {
   "cell_type": "markdown",
   "id": "b00bfe83-c66b-4e44-94d1-0bda1c25316a",
   "metadata": {},
   "source": [
    "## In class exercise \\#1: K-means clustering\n"
   ]
  },
  {
   "cell_type": "code",
   "execution_count": null,
   "id": "12491e49-fa8c-4e4a-b8b4-15e93253a9cc",
   "metadata": {},
   "outputs": [],
   "source": [
    "kmeans = KMeans(n_clusters=K).fit(features)\n",
    "x_mean, y_mean =kmeans.cluster_centers_[:,0],kmeans.cluster_centers_[:,1]\n",
    "labels_kmeans=kmeans.labels_\n",
    "\n",
    "fig = plt.figure(figsize=(10,10))\n",
    "plot_state(swarm.x[:,j],swarm.y[:,j],swarm.th[:,j],labels_kmeans)\n",
    "plt.title('K-means clastering')\n",
    "for k in range(K):\n",
    "    plt.plot(x_mean[k],y_mean[k],'rs',markersize=6)\n",
    "    plt.annotate(str(k), (x_mean[k],y_mean[k]), fontsize=20)     "
   ]
  },
  {
   "cell_type": "code",
   "execution_count": null,
   "id": "e53c9b0a-af24-4cb3-8d17-329170b3c887",
   "metadata": {},
   "outputs": [],
   "source": [
    "#comparing the two clustering algorithms \n",
    "plt.figure(figsize=(10,5))\n",
    "plt.subplot(1,2,1)\n",
    "plot_state(swarm.x[:,j],swarm.y[:,j],swarm.th[:,j],labels_gmm)\n",
    "plt.title('GMM')\n",
    "plt.subplot(1,2,2)\n",
    "plot_state(swarm.x[:,j],swarm.y[:,j],swarm.th[:,j],labels_kmeans)\n",
    "plt.title('k-means');"
   ]
  }
 ],
 "metadata": {
  "kernelspec": {
   "display_name": "Python 3",
   "language": "python",
   "name": "python3"
  },
  "language_info": {
   "codemirror_mode": {
    "name": "ipython",
    "version": 3
   },
   "file_extension": ".py",
   "mimetype": "text/x-python",
   "name": "python",
   "nbconvert_exporter": "python",
   "pygments_lexer": "ipython3",
   "version": "3.7.6"
  }
 },
 "nbformat": 4,
 "nbformat_minor": 5
}
